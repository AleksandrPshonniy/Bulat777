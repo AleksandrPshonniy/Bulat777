{
  "nbformat": 4,
  "nbformat_minor": 0,
  "metadata": {
    "colab": {
      "provenance": [],
      "authorship_tag": "ABX9TyOr7YZJuSZ0zpiQuKQPhFtS",
      "include_colab_link": true
    },
    "kernelspec": {
      "name": "python3",
      "display_name": "Python 3"
    },
    "language_info": {
      "name": "python"
    }
  },
  "cells": [
    {
      "cell_type": "markdown",
      "metadata": {
        "id": "view-in-github",
        "colab_type": "text"
      },
      "source": [
        "<a href=\"https://colab.research.google.com/github/AleksandrPshonniy/Bulat777/blob/main/Untitled13.ipynb\" target=\"_parent\"><img src=\"https://colab.research.google.com/assets/colab-badge.svg\" alt=\"Open In Colab\"/></a>"
      ]
    },
    {
      "cell_type": "code",
      "execution_count": 12,
      "metadata": {
        "id": "JvtIipeePSh4",
        "colab": {
          "base_uri": "https://localhost:8080/"
        },
        "outputId": "24abd702-fa32-4b3e-90ef-4d562a85f81b"
      },
      "outputs": [
        {
          "output_type": "stream",
          "name": "stdout",
          "text": [
            "8\n",
            "+,-,*,/+\n",
            "9\n",
            "17\n",
            "Do you want to continue? yes/no: no\n",
            "the end\n",
            "17\n"
          ]
        }
      ],
      "source": [
        "import math\n",
        "\n",
        "if answer == \"yes\":\n",
        "\n",
        "  a = int(input())\n",
        "  p = input(\"+,-,*,/\")\n",
        "  b = int(input())\n",
        "\n",
        "\n",
        "if p=='+':\n",
        "   print(a+b)\n",
        "elif p == '-':\n",
        "   print(a-b)\n",
        "elif p == '*':\n",
        "   print(a*b)\n",
        "elif p == '/':\n",
        "    if b != 0:\n",
        "     print(a/b)\n",
        "else:\n",
        "     print(\"Hа ноль делить нельзя!\")\n",
        "\n",
        "answer = input(\"Do you want to continue? yes/no: \")\n",
        "if answer !=\"yes\":\n",
        "    print(\"the end\")\n",
        "elif answer == \"yes\":\n",
        "\n",
        "  a = int(input())\n",
        "  p = input(\"+,-,*,/\")\n",
        "  b = int(input())\n",
        "\n",
        "\n",
        "if p=='+':\n",
        "   print(a+b)\n",
        "elif p == '-':\n",
        "   print(a-b)\n",
        "elif p == '*':\n",
        "   print(a*b)\n",
        "elif p == '/':\n",
        "    if b != 0:\n",
        "     print(a/b)\n",
        "else:\n",
        "     print(\"Hа ноль делить нельзя!\")\n",
        "\n"
      ]
    }
  ]
}