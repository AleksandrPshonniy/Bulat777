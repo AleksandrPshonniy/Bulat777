{
  "nbformat": 4,
  "nbformat_minor": 0,
  "metadata": {
    "colab": {
      "provenance": [],
      "authorship_tag": "ABX9TyNOdWGxzY3g8t7VjNe7zaEt",
      "include_colab_link": true
    },
    "kernelspec": {
      "name": "python3",
      "display_name": "Python 3"
    },
    "language_info": {
      "name": "python"
    }
  },
  "cells": [
    {
      "cell_type": "markdown",
      "metadata": {
        "id": "view-in-github",
        "colab_type": "text"
      },
      "source": [
        "<a href=\"https://colab.research.google.com/github/AleksandrPshonniy/Bulat777/blob/main/Untitled12.ipynb\" target=\"_parent\"><img src=\"https://colab.research.google.com/assets/colab-badge.svg\" alt=\"Open In Colab\"/></a>"
      ]
    },
    {
      "cell_type": "code",
      "execution_count": 18,
      "metadata": {
        "colab": {
          "base_uri": "https://localhost:8080/"
        },
        "id": "v89Hhj8dIZAB",
        "outputId": "c10a4764-4c49-4ff2-a399-103db8f132c7"
      },
      "outputs": [
        {
          "output_type": "stream",
          "name": "stdout",
          "text": [
            "get_Value\n",
            "False\n"
          ]
        }
      ],
      "source": [
        "import keyword\n",
        "import string\n",
        "\n",
        "user_input = input()\n",
        "\n",
        "if user_input[0].isdigit():\n",
        "  print(False)\n",
        "elif any(letter.isupper() for letter in user_input):\n",
        "  print(False)\n",
        "elif any(letter in string.punctuation.replace(\"_\",\" \")for letter in user_input.strip()):\n",
        "  print(False)\n",
        "elif user_input.count(\"_\") > 1 and all(letter ==\"_\" for letter in user_input):\n",
        "  print(False)\n",
        "elif user_input in keyword.kwlist:\n",
        "  print(False)\n",
        "else:\n",
        "  print(True)\n",
        "\n",
        "\n"
      ]
    }
  ]
}