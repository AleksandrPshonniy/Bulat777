{
  "nbformat": 4,
  "nbformat_minor": 0,
  "metadata": {
    "colab": {
      "provenance": [],
      "authorship_tag": "ABX9TyNjTLzkTpza9Rw9ND2pgS71",
      "include_colab_link": true
    },
    "kernelspec": {
      "name": "python3",
      "display_name": "Python 3"
    },
    "language_info": {
      "name": "python"
    }
  },
  "cells": [
    {
      "cell_type": "markdown",
      "metadata": {
        "id": "view-in-github",
        "colab_type": "text"
      },
      "source": [
        "<a href=\"https://colab.research.google.com/github/AleksandrPshonniy/Bulat777/blob/main/%D0%B4%D0%BE%D0%BC%D0%B0%D1%88%D0%BA%D0%B0%204.3.ipynb\" target=\"_parent\"><img src=\"https://colab.research.google.com/assets/colab-badge.svg\" alt=\"Open In Colab\"/></a>"
      ]
    },
    {
      "cell_type": "code",
      "execution_count": 1,
      "metadata": {
        "id": "Lm6g1Q3L4z3H",
        "colab": {
          "base_uri": "https://localhost:8080/"
        },
        "outputId": "fba23490-0a75-4bdd-9ec4-95e507f6ff20"
      },
      "outputs": [
        {
          "output_type": "stream",
          "name": "stdout",
          "text": [
            "[94, 31, 27, 78, 72, 67, 10, 55, 26]\n",
            "[94, 27, 55]\n"
          ]
        }
      ],
      "source": [
        "import random\n",
        "random_lst = [random.randint(1, 100) for _ in range(random.randint(3, 10))]\n",
        "first_lst = [random_lst[0], random_lst[2], random_lst[-2]]\n",
        "print(random_lst)\n",
        "print(first_lst)"
      ]
    }
  ]
}