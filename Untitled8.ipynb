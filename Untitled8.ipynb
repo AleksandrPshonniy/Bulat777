{
  "nbformat": 4,
  "nbformat_minor": 0,
  "metadata": {
    "colab": {
      "provenance": [],
      "authorship_tag": "ABX9TyPNhDhU0p5BkZX7CwKYwgaF",
      "include_colab_link": true
    },
    "kernelspec": {
      "name": "python3",
      "display_name": "Python 3"
    },
    "language_info": {
      "name": "python"
    }
  },
  "cells": [
    {
      "cell_type": "markdown",
      "metadata": {
        "id": "view-in-github",
        "colab_type": "text"
      },
      "source": [
        "<a href=\"https://colab.research.google.com/github/AleksandrPshonniy/Bulat777/blob/main/Untitled8.ipynb\" target=\"_parent\"><img src=\"https://colab.research.google.com/assets/colab-badge.svg\" alt=\"Open In Colab\"/></a>"
      ]
    },
    {
      "cell_type": "code",
      "execution_count": 5,
      "metadata": {
        "colab": {
          "base_uri": "https://localhost:8080/"
        },
        "id": "ztf5sVio7U3S",
        "outputId": "8ca7eb2c-c3c0-45ad-8b89-c5e14a1d4dde"
      },
      "outputs": [
        {
          "output_type": "stream",
          "name": "stdout",
          "text": [
            "[[1, 2], [3, 4]]\n"
          ]
        }
      ],
      "source": [
        "lst = [1,2,3,4]\n",
        "line = len(lst)\n",
        "if line % 2 == 0:\n",
        "   print([lst[:line // 2], lst[line//2:]])\n",
        "\n",
        "\n",
        "\n"
      ]
    }
  ]
}