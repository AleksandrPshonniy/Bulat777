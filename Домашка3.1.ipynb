{
  "nbformat": 4,
  "nbformat_minor": 0,
  "metadata": {
    "colab": {
      "provenance": [],
      "authorship_tag": "ABX9TyPt2Lxuxc3M7EsWwkSJl9Ed",
      "include_colab_link": true
    },
    "kernelspec": {
      "name": "python3",
      "display_name": "Python 3"
    },
    "language_info": {
      "name": "python"
    }
  },
  "cells": [
    {
      "cell_type": "markdown",
      "metadata": {
        "id": "view-in-github",
        "colab_type": "text"
      },
      "source": [
        "<a href=\"https://colab.research.google.com/github/AleksandrPshonniy/Bulat777/blob/main/%D0%94%D0%BE%D0%BC%D0%B0%D1%88%D0%BA%D0%B03.1.ipynb\" target=\"_parent\"><img src=\"https://colab.research.google.com/assets/colab-badge.svg\" alt=\"Open In Colab\"/></a>"
      ]
    },
    {
      "cell_type": "code",
      "execution_count": 18,
      "metadata": {
        "id": "RHcMcF89Q7a8",
        "colab": {
          "base_uri": "https://localhost:8080/"
        },
        "outputId": "92914920-a69f-455a-a535-66af7e76af05"
      },
      "outputs": [
        {
          "output_type": "stream",
          "name": "stdout",
          "text": [
            "25\n",
            "+,-,*,//\n",
            "0\n",
            "на ноль делить нельзя!\n"
          ]
        }
      ],
      "source": [
        "import math\n",
        "a = int(input())\n",
        "p = input(\"+,-,*,/\")\n",
        "b = int(input())\n",
        "\n",
        "if p=='+':\n",
        "  print(a+b)\n",
        "elif p == '-':\n",
        "  print(a-b)\n",
        "elif p == '*':\n",
        "  print(a*b)\n",
        "elif p == '/':\n",
        "  if b != 0:\n",
        "    print(a/b)\n",
        "  else:\n",
        "    print(\"Hа ноль делить нельзя!\")\n",
        "\n",
        "\n",
        "\n",
        "\n",
        "\n"
      ]
    }
  ]
}