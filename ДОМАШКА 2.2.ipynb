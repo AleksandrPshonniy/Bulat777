{
  "nbformat": 4,
  "nbformat_minor": 0,
  "metadata": {
    "colab": {
      "provenance": [],
      "authorship_tag": "ABX9TyMT6/1XBPUtBlCIkCNLqEn+",
      "include_colab_link": true
    },
    "kernelspec": {
      "name": "python3",
      "display_name": "Python 3"
    },
    "language_info": {
      "name": "python"
    }
  },
  "cells": [
    {
      "cell_type": "markdown",
      "metadata": {
        "id": "view-in-github",
        "colab_type": "text"
      },
      "source": [
        "<a href=\"https://colab.research.google.com/github/AleksandrPshonniy/Bulat777/blob/main/%D0%94%D0%9E%D0%9C%D0%90%D0%A8%D0%9A%D0%90%202.2.ipynb\" target=\"_parent\"><img src=\"https://colab.research.google.com/assets/colab-badge.svg\" alt=\"Open In Colab\"/></a>"
      ]
    },
    {
      "cell_type": "code",
      "execution_count": 40,
      "metadata": {
        "colab": {
          "base_uri": "https://localhost:8080/",
          "height": 174
        },
        "id": "zJSk714z4Ock",
        "outputId": "44dd79c3-b121-447c-b1fd-4845439a713c"
      },
      "outputs": [
        {
          "output_type": "stream",
          "name": "stdout",
          "text": [
            "12563\n",
            "<class 'str'>\n",
            "12563\n",
            "1\n",
            "2\n",
            "5\n",
            "6\n",
            "3\n"
          ]
        },
        {
          "output_type": "execute_result",
          "data": {
            "text/plain": [
              "'(3, 6, 5, 2, 1)'"
            ],
            "application/vnd.google.colaboratory.intrinsic+json": {
              "type": "string"
            }
          },
          "metadata": {},
          "execution_count": 40
        }
      ],
      "source": [
        "a = input()\n",
        "print ( type(a))\n",
        "print ( int (a))\n",
        "number = int (a)\n",
        "print (number //10000)\n",
        "x, y = divmod(number, 10000)\n",
        "x1, y = divmod(y, 1000)\n",
        "print (x1)\n",
        "n, c = divmod(number, 1000)\n",
        "n1, c = divmod(c, 100)\n",
        "print(n1)\n",
        "p, k = divmod(number, 100)\n",
        "p1, k = divmod(k, 10)\n",
        "print(p1)\n",
        "o, t = divmod(number, 1)\n",
        "o, t1 = divmod(o, 10)\n",
        "print(t1)\n",
        "f\"{t1, p1, n1, x1, (number// 10000)}\"\n",
        "\n",
        "\n",
        "\n",
        "\n",
        "\n"
      ]
    }
  ]
}