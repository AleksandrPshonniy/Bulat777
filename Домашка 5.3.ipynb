{
  "nbformat": 4,
  "nbformat_minor": 0,
  "metadata": {
    "colab": {
      "provenance": [],
      "authorship_tag": "ABX9TyMwFTSHsopmQpEMPBhtkjBI",
      "include_colab_link": true
    },
    "kernelspec": {
      "name": "python3",
      "display_name": "Python 3"
    },
    "language_info": {
      "name": "python"
    }
  },
  "cells": [
    {
      "cell_type": "markdown",
      "metadata": {
        "id": "view-in-github",
        "colab_type": "text"
      },
      "source": [
        "<a href=\"https://colab.research.google.com/github/AleksandrPshonniy/Bulat777/blob/main/%D0%94%D0%BE%D0%BC%D0%B0%D1%88%D0%BA%D0%B0%205.3.ipynb\" target=\"_parent\"><img src=\"https://colab.research.google.com/assets/colab-badge.svg\" alt=\"Open In Colab\"/></a>"
      ]
    },
    {
      "cell_type": "code",
      "execution_count": 5,
      "metadata": {
        "id": "GAFHw8o0YXmK",
        "colab": {
          "base_uri": "https://localhost:8080/"
        },
        "outputId": "7f7789e1-7bdc-4828-b425-a44ea660ece0"
      },
      "outputs": [
        {
          "output_type": "stream",
          "name": "stdout",
          "text": [
            "#iju\n",
            "None\n"
          ]
        }
      ],
      "source": [
        "def create_hashtag(s):\n",
        "    words = s.strip().split()\n",
        "    hashtag = \"\"#\" + \".join([word.capitalize() for word in words])\"\"\n",
        "    if len(hashtag)>140:\n",
        "      return\"hashtag long so much\"\n",
        "user_input = input()\n",
        "print (create_hashtag(user_input))\n",
        "\n"
      ]
    },
    {
      "cell_type": "code",
      "source": [],
      "metadata": {
        "id": "rp94dKYkgoLq"
      },
      "execution_count": null,
      "outputs": []
    },
    {
      "cell_type": "code",
      "source": [],
      "metadata": {
        "id": "DNH0_HLkHXJi"
      },
      "execution_count": null,
      "outputs": []
    }
  ]
}