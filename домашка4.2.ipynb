{
  "nbformat": 4,
  "nbformat_minor": 0,
  "metadata": {
    "colab": {
      "provenance": [],
      "authorship_tag": "ABX9TyPuOL5YSVOgVfGwMRtDOCrH",
      "include_colab_link": true
    },
    "kernelspec": {
      "name": "python3",
      "display_name": "Python 3"
    },
    "language_info": {
      "name": "python"
    }
  },
  "cells": [
    {
      "cell_type": "markdown",
      "metadata": {
        "id": "view-in-github",
        "colab_type": "text"
      },
      "source": [
        "<a href=\"https://colab.research.google.com/github/AleksandrPshonniy/Bulat777/blob/main/%D0%B4%D0%BE%D0%BC%D0%B0%D1%88%D0%BA%D0%B04.2.ipynb\" target=\"_parent\"><img src=\"https://colab.research.google.com/assets/colab-badge.svg\" alt=\"Open In Colab\"/></a>"
      ]
    },
    {
      "cell_type": "code",
      "execution_count": 27,
      "metadata": {
        "colab": {
          "base_uri": "https://localhost:8080/"
        },
        "id": "snXJuG0SZaQP",
        "outputId": "617431d4-bf75-4111-96f5-861f1b0b296f"
      },
      "outputs": [
        {
          "output_type": "stream",
          "name": "stdout",
          "text": [
            "88\n"
          ]
        }
      ],
      "source": [
        "first_list = [0, 1, 7, 2, 4, 8]\n",
        "if len(first_list) != 0:\n",
        "    second_list = sum(first_list[::2]) * first_list[-1]\n",
        "    print(second_list)\n",
        "else:\n",
        "     second_list = sum(first_list[::2]) * len(first_list)\n",
        "     print(second_list)\n"
      ]
    }
  ]
}