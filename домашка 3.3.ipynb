{
  "nbformat": 4,
  "nbformat_minor": 0,
  "metadata": {
    "colab": {
      "provenance": [],
      "authorship_tag": "ABX9TyPDD893tD5HMiSIFe2nDh+X",
      "include_colab_link": true
    },
    "kernelspec": {
      "name": "python3",
      "display_name": "Python 3"
    },
    "language_info": {
      "name": "python"
    }
  },
  "cells": [
    {
      "cell_type": "markdown",
      "metadata": {
        "id": "view-in-github",
        "colab_type": "text"
      },
      "source": [
        "<a href=\"https://colab.research.google.com/github/AleksandrPshonniy/Bulat777/blob/main/%D0%B4%D0%BE%D0%BC%D0%B0%D1%88%D0%BA%D0%B0%203.3.ipynb\" target=\"_parent\"><img src=\"https://colab.research.google.com/assets/colab-badge.svg\" alt=\"Open In Colab\"/></a>"
      ]
    },
    {
      "cell_type": "code",
      "execution_count": 3,
      "metadata": {
        "colab": {
          "base_uri": "https://localhost:8080/"
        },
        "id": "ztf5sVio7U3S",
        "outputId": "1e768eb2-0736-40d6-a358-22577e79ea83"
      },
      "outputs": [
        {
          "output_type": "stream",
          "name": "stdout",
          "text": [
            "[[1], []]\n"
          ]
        }
      ],
      "source": [
        "lst = [1]\n",
        "line = len(lst)\n",
        "if line % 2 == 0:\n",
        "   print([lst[:line // 2], lst[line//2:]])\n",
        "elif line%2 ==1:\n",
        "  print([lst[:line // 2+1], lst[line // 2+1:]])\n",
        "\n",
        "\n",
        "\n"
      ]
    }
  ]
}